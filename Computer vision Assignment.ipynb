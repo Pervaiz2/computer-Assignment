{
 "cells": [
  {
   "cell_type": "code",
   "execution_count": 1,
   "id": "ddebbc34",
   "metadata": {},
   "outputs": [
    {
     "ename": "SyntaxError",
     "evalue": "invalid syntax (<ipython-input-1-9e801efb7a34>, line 1)",
     "output_type": "error",
     "traceback": [
      "\u001b[1;36m  File \u001b[1;32m\"<ipython-input-1-9e801efb7a34>\"\u001b[1;36m, line \u001b[1;32m1\u001b[0m\n\u001b[1;33m    clear all\u001b[0m\n\u001b[1;37m          ^\u001b[0m\n\u001b[1;31mSyntaxError\u001b[0m\u001b[1;31m:\u001b[0m invalid syntax\n"
     ]
    }
   ],
   "source": [
    "clear all\n",
    "clc\n",
    "%Detect objects using Viola-Jones Algorithm\n",
    " \n",
    "%To detect Face\n",
    "FDetect = vision.CascadeObjectDetector;\n",
    " \n",
    "%Read the input image\n",
    "I = imread('image.jpg');\n",
    " \n",
    "%Returns Bounding Box values based on number of objects\n",
    "BB = step(FDetect,I);\n",
    " \n",
    "figure,\n",
    "imshow(I); hold on\n",
    "for i = 1:size(BB,1)\n",
    "    rectangle('Position',BB(i,:),'LineWidth',5,'LineStyle','-','EdgeColor','r');\n",
    "end\n",
    "title('Face Detection');\n",
    "hold off;\n",
    " \n",
    "%To detect Nose\n",
    "NoseDetect = vision.CascadeObjectDetector('Nose','MergeThreshold',16);\n",
    " \n",
    " \n",
    " \n",
    "BB=step(NoseDetect,I);\n",
    " \n",
    " \n",
    "figure,\n",
    "imshow(I); hold on\n",
    "for i = 1:size(BB,1)\n",
    "    rectangle('Position',BB(i,:),'LineWidth',4,'LineStyle','-','EdgeColor','b');\n",
    "end\n",
    "title('Nose Detection');\n",
    "hold off;\n",
    "%To detect Mouth\n",
    "MouthDetect = vision.CascadeObjectDetector('Mouth','MergeThreshold',16);\n",
    " \n",
    "BB=step(MouthDetect,I);\n",
    " \n",
    " \n",
    "figure,\n",
    "imshow(I); hold on\n",
    "for i = 1:size(BB,1)\n",
    " rectangle('Position',BB(i,:),'LineWidth',4,'LineStyle','-','EdgeColor','r');\n",
    "end\n",
    "title('Mouth Detection');\n",
    "hold off;\n",
    "%To detect Eyes\n",
    "EyeDetect = vision.CascadeObjectDetector('EyePairBig');\n",
    " \n",
    "%Read the input Image\n",
    "I = imread('im.jpg');\n",
    " \n",
    "BB=step(EyeDetect,I);\n",
    " \n",
    " \n",
    " \n",
    "figure,imshow(I);\n",
    "rectangle('Position',BB,'LineWidth',4,'LineStyle','-','EdgeColor','b');\n",
    "title('Eyes Detection');\n",
    "Eyes=imcrop(I,BB);\n",
    "figure,imshow(Eyes);\n",
    "\n",
    "\n"
   ]
  },
  {
   "cell_type": "code",
   "execution_count": null,
   "id": "70ed9d36",
   "metadata": {},
   "outputs": [],
   "source": []
  }
 ],
 "metadata": {
  "kernelspec": {
   "display_name": "Python 3",
   "language": "python",
   "name": "python3"
  },
  "language_info": {
   "codemirror_mode": {
    "name": "ipython",
    "version": 3
   },
   "file_extension": ".py",
   "mimetype": "text/x-python",
   "name": "python",
   "nbconvert_exporter": "python",
   "pygments_lexer": "ipython3",
   "version": "3.8.8"
  }
 },
 "nbformat": 4,
 "nbformat_minor": 5
}
